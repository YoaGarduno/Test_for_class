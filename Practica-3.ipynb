{
 "cells": [
  {
   "cell_type": "markdown",
   "metadata": {},
   "source": [
    "# Autor\n",
    "\n",
    "Integrantes: \n",
    "\n",
    "* Galindo Cortéz Lorena\n",
    "\n",
    "* Garduño León Yoatzin Itahi\n",
    "\n",
    "GitHub: YoaGarduno y Lorena3312\n",
    "\n",
    "______"
   ]
  },
  {
   "cell_type": "markdown",
   "metadata": {},
   "source": [
    "## 1. Escribe un ciclo que genere todos los enteros entre 0 y n."
   ]
  },
  {
   "cell_type": "code",
   "execution_count": 8,
   "metadata": {},
   "outputs": [
    {
     "name": "stdout",
     "output_type": "stream",
     "text": [
      "Ingrese un valor númerico aquí: 5\n",
      "Los números entre 0 y 5 son:\n",
      "0\n",
      "1\n",
      "2\n",
      "3\n",
      "4\n",
      "5\n"
     ]
    }
   ],
   "source": [
    "n=int(input('Ingrese un valor númerico aquí: ')) #Definimos a n como el número hasta al que queremos que genere.\n",
    "\n",
    "print(f'Los números entre 0 y {n} son:') #Imprimimos lo que queremos que diga\n",
    "\n",
    "for i in range (0, n + 1):\n",
    "        \n",
    "    print(i) #Imprimimos x\n"
   ]
  },
  {
   "cell_type": "markdown",
   "metadata": {},
   "source": [
    "## 2. Escriba un ciclo que genere todos los números pares entre 0 y n."
   ]
  },
  {
   "cell_type": "code",
   "execution_count": 37,
   "metadata": {},
   "outputs": [
    {
     "name": "stdout",
     "output_type": "stream",
     "text": [
      "Ingrese un valor númerico aquí: 10\n",
      "0\n",
      "2\n",
      "4\n",
      "6\n",
      "8\n"
     ]
    }
   ],
   "source": [
    "i = 0\n",
    "n = int(input('Ingrese un valor númerico aquí: ')) #Definimos a n como el número hasta al que queremos que genere.\n",
    "\n",
    "for n in range (0, n): # Se generará la secuencia entre 0 y n\n",
    "    if n%2 == 0: #Se introduce el operando en que el uso significa par.\n",
    "        print(n)\n",
    "n=n + 1 #El valor de n aumentará de n+1 consecutivamente."
   ]
  },
  {
   "cell_type": "markdown",
   "metadata": {},
   "source": [
    "## 3. Escriba un ciclo que genera todos los numeros impares entre 0 y n"
   ]
  },
  {
   "cell_type": "code",
   "execution_count": 10,
   "metadata": {},
   "outputs": [
    {
     "name": "stdout",
     "output_type": "stream",
     "text": [
      "Ingrese un valor númerico aquí: 20\n",
      "1\n",
      "3\n",
      "5\n",
      "7\n",
      "9\n",
      "11\n",
      "13\n",
      "15\n",
      "17\n",
      "19\n"
     ]
    }
   ],
   "source": [
    "i = 0\n",
    "n = int(input('Ingrese un valor númerico aquí: ' )) #Definimos a n como el número hasta al que queremos que genere.\n",
    "\n",
    "for n in range (0, n): #Range generará la lista inmutable de los números enteros.\n",
    "    if n%2 == 1: #Se introduce el operando en que el uso significa impar.\n",
    "        print(n)\n",
    "n=n + 1 #El valor de n aumentará de n+1 consecutivamente."
   ]
  },
  {
   "cell_type": "markdown",
   "metadata": {},
   "source": [
    "## 4. Calcule, usando un ciclo, la suma de los primeros n naturales. Sin usar la fórmula de Gauss."
   ]
  },
  {
   "cell_type": "code",
   "execution_count": 11,
   "metadata": {},
   "outputs": [
    {
     "name": "stdout",
     "output_type": "stream",
     "text": [
      "Ingrese un valor númerico aquí: 60\n",
      "La suma de los primeros 60 naturales es : 1830\n"
     ]
    }
   ],
   "source": [
    "x = 0\n",
    "n = int(input('Ingrese un valor númerico aquí: ')) #Definimos a n como el número hasta al que queremos que genere.\n",
    "suma = 0\n",
    "\n",
    "while x <= n:\n",
    "    suma = suma + x #El operador indica que la variable x y la variable suma se irán adicionando uno con el otro\n",
    "    x = x + 1\n",
    "    \n",
    "print(f'La suma de los primeros {n} naturales es :', suma)"
   ]
  },
  {
   "cell_type": "markdown",
   "metadata": {},
   "source": [
    "## 5. La serie o sucesión de Fibonacci es una sucesión infinita de número naturales, la cual comienza con los números 0 y 1 y a partir de estos, cada término es la suma de los dos anteriores. Algunos términos de la serie de Fibonacci son: 0, 1, 1, 2, 3, 5, 8, 13, 21, . . .  Escriba un ciclo que genere una lista con los primeros n terminos de la serie de Fibonacci, es decir si n =  la lista debe de ser [0, 1, 1, 2, 3, 5,8, 13, 21, 34, 55, 89, 144, 233, 377]."
   ]
  },
  {
   "cell_type": "code",
   "execution_count": 15,
   "metadata": {},
   "outputs": [
    {
     "name": "stdout",
     "output_type": "stream",
     "text": [
      "Ingrese un valor númerico aquí: 15\n",
      "Sucesión de Fibonacci\n",
      "0\n",
      "1\n",
      "1\n",
      "2\n",
      "3\n",
      "5\n",
      "8\n",
      "13\n",
      "21\n",
      "34\n",
      "55\n",
      "89\n",
      "144\n",
      "233\n",
      "377\n"
     ]
    }
   ],
   "source": [
    "def fib(n): #Calculará el orden mediante cierta recursividad\n",
    "    if n == 1 or n== 0: #Surgirá una comparación con la variable n\n",
    "        return n\n",
    "    else:\n",
    "        return fib(n-2) + fib(n-1)\n",
    "\n",
    "n= int(input('Ingrese un valor númerico aquí: ')) #Definimos a n como el número hasta al que queremos que genere.\n",
    "\n",
    "if n<0:\n",
    "    print('número no válido')\n",
    "    \n",
    "i=0\n",
    "\n",
    "print('Sucesión de Fibonacci')\n",
    "\n",
    "for i in range(0,n):\n",
    "    print(fib(i))"
   ]
  },
  {
   "cell_type": "markdown",
   "metadata": {},
   "source": [
    "## 6. Escriba un ciclo que regrese True si un numero es primo y False de lo contrario. Luego usando el ciclo anterior escriba una funcion1 que se llame is prime() que reciba un numero n y regrese True si el numero en primo y False no es primo."
   ]
  },
  {
   "cell_type": "code",
   "execution_count": 13,
   "metadata": {},
   "outputs": [],
   "source": [
    "def is_prime(n): #Se define la función\n",
    "    i = 2\n",
    "    isprime = True\n",
    "\n",
    "    while i < n:\n",
    "        if n%i == 0: #Si el residuo de dividir n entre 2 de la variable el programa nos arrojará un True o False dependiendo del caso.\n",
    "            isprime = False\n",
    "            break\n",
    "        else:\n",
    "\n",
    "            i = i + 1\n",
    "            \n",
    "    return isprime\n",
    "    #print(f'El número {n} es primo', isprime)\n",
    " "
   ]
  },
  {
   "cell_type": "code",
   "execution_count": 14,
   "metadata": {},
   "outputs": [
    {
     "data": {
      "text/plain": [
       "True"
      ]
     },
     "execution_count": 14,
     "metadata": {},
     "output_type": "execute_result"
    }
   ],
   "source": [
    "is_prime(5)"
   ]
  },
  {
   "cell_type": "markdown",
   "metadata": {},
   "source": [
    "## 7. Implemente una función que se llame primes() que reciba un numero n y que regrese una lista con los primos entre 1 y n. Sugerencia: use la funcion is prime() del ejercicio anterior."
   ]
  },
  {
   "cell_type": "code",
   "execution_count": 22,
   "metadata": {},
   "outputs": [],
   "source": [
    "def primes(n): #Se le da nombre a la función\n",
    "    \n",
    "    #i = 2 \n",
    "    isprime = [] #Se define la lista \n",
    "\n",
    "    for i in range (2, n + 1): #Se generará la secuencia inmutable \n",
    "        if is_prime(i):\n",
    "            isprime.append(i)\n",
    "\n",
    "    return isprime \n",
    " "
   ]
  },
  {
   "cell_type": "code",
   "execution_count": 23,
   "metadata": {},
   "outputs": [
    {
     "data": {
      "text/plain": [
       "[2, 3, 5, 7, 11, 13, 17, 19, 23, 29, 31]"
      ]
     },
     "execution_count": 23,
     "metadata": {},
     "output_type": "execute_result"
    }
   ],
   "source": [
    "primes(35)"
   ]
  },
  {
   "cell_type": "markdown",
   "metadata": {},
   "source": [
    "## 8. Mediante el operador de asignación defina una variable que se llame `list_of_primes` a partir de la función primes(n) para algún `n`. Luego mediante un ciclo genere una lista que se llame `twin_cousins` con los primos gemelos de la lista `list_of_primes2`, por ejemplo, si se requiere encontrar los primos gemelos entre 1 y 20, dicha lista debe de ser list of primes n= [(3,5), (5,7), (11, 13), (17,19)], observe que los primos gemelos deben de estar en tuplas dentro de la lista."
   ]
  },
  {
   "cell_type": "code",
   "execution_count": 36,
   "metadata": {},
   "outputs": [
    {
     "ename": "SyntaxError",
     "evalue": "invalid syntax (<ipython-input-36-eefd1b5722cf>, line 12)",
     "output_type": "error",
     "traceback": [
      "\u001b[1;36m  File \u001b[1;32m\"<ipython-input-36-eefd1b5722cf>\"\u001b[1;36m, line \u001b[1;32m12\u001b[0m\n\u001b[1;33m    int diference(lists_of_primes[i] - lists_of_primes[i-1]):\u001b[0m\n\u001b[1;37m        ^\u001b[0m\n\u001b[1;31mSyntaxError\u001b[0m\u001b[1;31m:\u001b[0m invalid syntax\n"
     ]
    }
   ],
   "source": [
    "lists_of_primes = primes(35)# Aquí se asignó la lista list_of_priem, en forma de lista los primos entre 0 y 35\n",
    "\n",
    "twin_cousins=[] # La lista a la cual le vamos a apendar en tup\n",
    "\n",
    "i = 1\n",
    "\n",
    "while i < len(lists_of_primes):\n",
    "    diference = lists_of_primes[i] - lists_of_primes[i-1]\n",
    "    print(f'La diference entre {lists_of_primes[i]} y {lists_of_primes[i-1]}', diference)\n",
    "    i = i + 1\n",
    "    if diference(lists_of_primes[i] - lists_of_primes[i-1]):\n",
    "        diference.append(lists_of_primes[i] - lists_of_primes[i-1])\n",
    "        \n",
    "        twin_cousins.append(lists_of_primes[i] - lists_of_primes[i-1])\n",
    "        \n",
    "#Disculpe aquí pero no supimos como resolverlo    "
   ]
  },
  {
   "cell_type": "markdown",
   "metadata": {},
   "source": [
    "## 9.Escriba una función que se llame my factorial() que reciba un numero n del tipo int y regrese el factorial de este."
   ]
  },
  {
   "cell_type": "code",
   "execution_count": 90,
   "metadata": {},
   "outputs": [],
   "source": [
    "def my_factorial(n): #Se nombra la función\n",
    "    \n",
    "    n = int(input('Escribe el número aquí:')) #Definimos a n como el número hasta al que queremos que genere.\n",
    "    \n",
    "    i= 1\n",
    "    \n",
    "    if n < 0:\n",
    "        print('El factorial no existe') #Respuesta alternativa para el resultado\n",
    "    elif n == 0:\n",
    "        print(f'El factorial de {n} es 1') #Respuesta alternativa para el resultado\n",
    "    else:\n",
    "        for n in range(1, n + 1):\n",
    "            i = i*n\n",
    "            \n",
    "        print(f'El factorial de {n} es {i}')"
   ]
  },
  {
   "cell_type": "code",
   "execution_count": 93,
   "metadata": {},
   "outputs": [
    {
     "name": "stdout",
     "output_type": "stream",
     "text": [
      "Escribe el número aquí:5\n",
      "El factorial de 5 es 120\n"
     ]
    }
   ],
   "source": [
    "my_factorial(n)"
   ]
  },
  {
   "cell_type": "code",
   "execution_count": 94,
   "metadata": {},
   "outputs": [
    {
     "name": "stdout",
     "output_type": "stream",
     "text": [
      "Escribe el número aquí:0\n",
      "El factorial de 0 es 1\n"
     ]
    }
   ],
   "source": [
    "my_factorial(n)"
   ]
  },
  {
   "cell_type": "code",
   "execution_count": 95,
   "metadata": {},
   "outputs": [
    {
     "name": "stdout",
     "output_type": "stream",
     "text": [
      "Escribe el número aquí:-1\n",
      "El factorial no existe\n"
     ]
    }
   ],
   "source": [
    "my_factorial(n)"
   ]
  },
  {
   "cell_type": "markdown",
   "metadata": {},
   "source": [
    "## 10. Escriba un ciclo que genera una serie de cadenas de la forma: date-1.txt, date-2.txt, etc hasta n un número proporcionado por el usuario date-n.txt."
   ]
  },
  {
   "cell_type": "code",
   "execution_count": 6,
   "metadata": {},
   "outputs": [
    {
     "name": "stdout",
     "output_type": "stream",
     "text": [
      "Coloque el número aquí: 18\n"
     ]
    }
   ],
   "source": [
    "n = int(input('Coloque el número aquí: ')) #Definimos a n como el número hasta al que queremos que genere.\n",
    "x = 'date-' #Variable\n",
    "y = '.txt.'#Variable\n",
    "t = [] #Se define la lista a la cual vamoas a apendar\n",
    "i = 1\n",
    "\n",
    "while i < n + 1:\n",
    "    t2 = x + str(i) + y\n",
    "    t.append(t2)#Se apenda la lista con en la cadena\n",
    "    \n",
    "    i = i + 1\n"
   ]
  },
  {
   "cell_type": "code",
   "execution_count": 7,
   "metadata": {},
   "outputs": [
    {
     "name": "stdout",
     "output_type": "stream",
     "text": [
      "['date-1.txt.', 'date-2.txt.', 'date-3.txt.', 'date-4.txt.', 'date-5.txt.', 'date-6.txt.', 'date-7.txt.', 'date-8.txt.', 'date-9.txt.', 'date-10.txt.', 'date-11.txt.', 'date-12.txt.', 'date-13.txt.', 'date-14.txt.', 'date-15.txt.', 'date-16.txt.', 'date-17.txt.', 'date-18.txt.']\n"
     ]
    }
   ],
   "source": [
    "print(t)"
   ]
  }
 ],
 "metadata": {
  "kernelspec": {
   "display_name": "Python 3",
   "language": "python",
   "name": "python3"
  },
  "language_info": {
   "codemirror_mode": {
    "name": "ipython",
    "version": 3
   },
   "file_extension": ".py",
   "mimetype": "text/x-python",
   "name": "python",
   "nbconvert_exporter": "python",
   "pygments_lexer": "ipython3",
   "version": "3.8.3"
  }
 },
 "nbformat": 4,
 "nbformat_minor": 4
}
